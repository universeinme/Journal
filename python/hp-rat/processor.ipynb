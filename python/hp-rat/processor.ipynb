{
 "cells": [
  {
   "cell_type": "code",
   "execution_count": null,
   "metadata": {},
   "outputs": [],
   "source": [
    "# import library\n",
    "import pandas as pd\n",
    "import numpy as np\n",
    "import matplotlib.pyplot as plt\n",
    "import seaborn as sns\n",
    "from scipy.stats import norm\n",
    "from sklearn.preprocessing import StandardScaler\n",
    "from scipy import stats\n",
    "import warnings\n",
    "warnings.filterwarnings('ignore')\n",
    "pd.set_option('display.max_columns', 100)"
   ]
  },
  {
   "cell_type": "markdown",
   "metadata": {},
   "source": [
    "# A. Mendapatkan Informasi Dasar Data\n",
    "    1. load data\n",
    "    2. load data menjadi dataframe\n",
    "    3. Cek dataframe\n",
    "        a. Shape\n",
    "        b. Head\n",
    "        c. Tail\n",
    "        d. Info\n",
    "        e. Duplikasi (1)\n",
    "        f. Duplikasi (2)"
   ]
  },
  {
   "cell_type": "code",
   "execution_count": null,
   "metadata": {},
   "outputs": [],
   "source": [
    "# 1. load data\n",
    "train = 'data/train.csv'\n",
    "test = 'data/test.csv'\n",
    "desc = 'data/data_description.txt'"
   ]
  },
  {
   "cell_type": "code",
   "execution_count": null,
   "metadata": {},
   "outputs": [],
   "source": [
    "# 2. load data as dataframe\n",
    "df = pd.read_csv(train)"
   ]
  },
  {
   "cell_type": "code",
   "execution_count": null,
   "metadata": {},
   "outputs": [],
   "source": [
    "# 3. checking df\n",
    "# a. shape\n",
    "df.shape\n",
    "print(f\"Jumlah baris {df.shape[0]}\")\n",
    "print(f\"Jumlah kolom {df.shape[1]}\")"
   ]
  },
  {
   "cell_type": "code",
   "execution_count": null,
   "metadata": {},
   "outputs": [],
   "source": [
    "# b. head\n",
    "df.head(10)"
   ]
  },
  {
   "cell_type": "code",
   "execution_count": null,
   "metadata": {},
   "outputs": [],
   "source": [
    "# c. tail\n",
    "df.tail(10)"
   ]
  },
  {
   "cell_type": "code",
   "execution_count": null,
   "metadata": {},
   "outputs": [],
   "source": [
    "# d. info\n",
    "df.info()"
   ]
  },
  {
   "cell_type": "code",
   "execution_count": null,
   "metadata": {},
   "outputs": [],
   "source": [
    "# e. cek duplikasi (1)\n",
    "df.duplicated()"
   ]
  },
  {
   "cell_type": "code",
   "execution_count": null,
   "metadata": {},
   "outputs": [],
   "source": [
    "# e. cek duplikasi (2)\n",
    "df[df.duplicated()]"
   ]
  },
  {
   "cell_type": "markdown",
   "metadata": {},
   "source": [
    "# B. Identifikasi Missing Value\n",
    "    1. Menampilkan Missing Value\n",
    "        a. Cek\n",
    "    2. Membuat Fungsi Pengecekan Missing Values\n"
   ]
  },
  {
   "cell_type": "code",
   "execution_count": null,
   "metadata": {},
   "outputs": [],
   "source": [
    "# 1. Menampilkan Jumlah Record Missing Value di sebuah kolom\n",
    "# a. Cek Missing\n",
    "df.isna().sum()"
   ]
  },
  {
   "cell_type": "code",
   "execution_count": null,
   "metadata": {},
   "outputs": [],
   "source": [
    "# kemudian di re-index\n",
    "df.isna().sum().reset_index()"
   ]
  },
  {
   "cell_type": "code",
   "execution_count": null,
   "metadata": {},
   "outputs": [],
   "source": [
    "# 2. Membuat fungsi missing untuk mensortir missing values sebuah kolom agar mudah dibaca\n",
    "\n",
    "def cek_missing(df):\n",
    "    sum_nan = df.isna().sum().reset_index()\n",
    "    # rename nama kolom\n",
    "    sum_nan.columns = ['nama_Kolom', 'jumlah_Missing']\n",
    "    # membuat kolom persentase\n",
    "    sum_nan[\"persentase\"] = sum_nan.jumlah_Missing/len(df)\n",
    "    return sum_nan.sort_values(\"persentase\", ascending = False)\n",
    "missing = cek_missing(df)"
   ]
  },
  {
   "cell_type": "code",
   "execution_count": null,
   "metadata": {},
   "outputs": [],
   "source": [
    "# Eksekusi fungsi cek_missing dan melihat hasilnya\n",
    "missing"
   ]
  },
  {
   "cell_type": "markdown",
   "metadata": {},
   "source": [
    "# C. Fixing Null Values\n",
    "        1. Menyeleksi Missing Value dengan persentase kurang dari 70%\n",
    "        2. Mendeskripsikan dataset ( mean, median, modus dsb)"
   ]
  },
  {
   "cell_type": "code",
   "execution_count": null,
   "metadata": {},
   "outputs": [],
   "source": [
    "# 1. Menyeleksi Missing Value dengan persentase kurang dari 70%\n",
    "miss = missing[missing.persentase < 0.7]\n",
    "miss\n"
   ]
  },
  {
   "cell_type": "code",
   "execution_count": null,
   "metadata": {},
   "outputs": [],
   "source": [
    "# Mencari kolom yang lebih dari 0\n",
    "to_fix_col = miss[miss.persentase > 0 ].nama_Kolom.tolist()\n",
    "to_fix_col"
   ]
  },
  {
   "cell_type": "code",
   "execution_count": null,
   "metadata": {},
   "outputs": [],
   "source": [
    "# 2. Drop kolom\n",
    "df2 = df.drop(missing[missing.persentase > 0.7].nama_Kolom.tolist(), 1)\n",
    "to_fix = df2[df2[to_fix_col].describe().columns.tolist()]\n",
    "to_fix.skew()"
   ]
  },
  {
   "cell_type": "code",
   "execution_count": null,
   "metadata": {},
   "outputs": [],
   "source": [
    "# 2. Mendeskripsikan dataset ( mean, median, modus dsb)\n",
    "to_fix.describe()"
   ]
  },
  {
   "cell_type": "markdown",
   "metadata": {},
   "source": [
    "# D. Memisahkan Numerik dan Kategori\n",
    "    1. Set Index\n",
    "    2. Mengumpulkan record numerik\n",
    "    3. Mengumpulkan record kategorikal\n",
    "    4. Dataframe Numerik\n",
    "    5. Dataframe Kategorikal"
   ]
  },
  {
   "cell_type": "code",
   "execution_count": null,
   "metadata": {},
   "outputs": [],
   "source": [
    "# 1. Set Index\n",
    "df2 = df2.set_index('Id')"
   ]
  },
  {
   "cell_type": "code",
   "execution_count": null,
   "metadata": {},
   "outputs": [],
   "source": [
    "# 2. Mengumpulkan kolom berisi record numerik\n",
    "col_numeric = df2.describe().columns.tolist()"
   ]
  },
  {
   "cell_type": "code",
   "execution_count": null,
   "metadata": {},
   "outputs": [],
   "source": [
    "# 3. Mengumpulkan kolom berisi record kategori\n",
    "col_categoric = df2.describe(include=\"object\").columns.tolist()"
   ]
  },
  {
   "cell_type": "code",
   "execution_count": null,
   "metadata": {},
   "outputs": [],
   "source": [
    "# 4. Membuat dataframe numerik\n",
    "df2_numeric = df2[col_numeric]\n",
    "df2_numeric"
   ]
  },
  {
   "cell_type": "code",
   "execution_count": null,
   "metadata": {},
   "outputs": [],
   "source": [
    "# 5. Membuat dataframe kategorikal\n",
    "df2_categoric = df2[col_categoric]\n",
    "df2_categoric"
   ]
  },
  {
   "cell_type": "markdown",
   "metadata": {},
   "source": [
    "# E. Identifikasi\n",
    "    1. Outliers\n",
    "    2. Skewness"
   ]
  },
  {
   "cell_type": "code",
   "execution_count": null,
   "metadata": {},
   "outputs": [],
   "source": [
    "# Cek distribusi\n",
    "# function visualisasi facetgrid\n",
    "import warnings\n",
    "\n",
    "\n",
    "def viz(df, types):\n",
    "    num = df\n",
    "    f = pd.melt(num, value_vars=num)\n",
    "    g = sns.FacetGrid(f, col=\"variable\",  col_wrap=3,\n",
    "                      sharex=False, sharey=False, size=5)\n",
    "    g = g.map(types, \"value\")\n",
    "    plt.show()\n",
    "    return (g)\n",
    "\n",
    "\n",
    "warnings.filterwarnings('ignore')\n",
    "# LotFrontage with median , GarageYrBlt mean , and MasVnrArea with median\n",
    "viz(to_fix, sns.distplot)\n"
   ]
  },
  {
   "cell_type": "code",
   "execution_count": null,
   "metadata": {},
   "outputs": [],
   "source": [
    "viz(df2_numeric, sns.distplot)\n"
   ]
  },
  {
   "cell_type": "code",
   "execution_count": null,
   "metadata": {},
   "outputs": [],
   "source": [
    "df2_numeric['PoolArea'].unique()"
   ]
  },
  {
   "cell_type": "code",
   "execution_count": null,
   "metadata": {},
   "outputs": [],
   "source": [
    "skew_report = df2_numeric.skew().reset_index()\n",
    "skew_report.columns = ['columns', 'skew_score']\n",
    "skew_report.sort_values('skew_score', ascending=False)"
   ]
  },
  {
   "cell_type": "code",
   "execution_count": null,
   "metadata": {},
   "outputs": [],
   "source": [
    "# outliers plots\n",
    "viz(df2_numeric, sns.boxplot)\n"
   ]
  },
  {
   "cell_type": "code",
   "execution_count": null,
   "metadata": {
    "id": "6EO1BtIfRQgX"
   },
   "outputs": [],
   "source": [
    "# outliers report\n",
    "def outliers(s):\n",
    "    iqr = (np.quantile(s, 0.75))-(np.quantile(s, 0.25))\n",
    "    upper_bound = np.quantile(s, 0.75)+(1.5*iqr)\n",
    "    lower_bound = np.quantile(s, 0.25)-(1.5*iqr)\n",
    "    f = []\n",
    "    for i in s:\n",
    "        if i > upper_bound:\n",
    "            f.append(i)\n",
    "        elif i < lower_bound:\n",
    "            f.append(i)\n",
    "    sums = len(f)\n",
    "    pros = len(f)/len(s)*100\n",
    "    d = {'IQR':iqr,\n",
    "         'Upper Bound':upper_bound,\n",
    "        'Lower Bound':lower_bound,\n",
    "        'Sum outliers': sums,'percentage outliers':pros}\n",
    "    d = pd.DataFrame(d.items(),columns = ['sub','values'])\n",
    "    return(d)"
   ]
  },
  {
   "cell_type": "code",
   "execution_count": null,
   "metadata": {
    "colab": {
     "base_uri": "https://localhost:8080/",
     "height": 1000
    },
    "id": "qWrXiwpeRQaz",
    "outputId": "f3aeb41e-d4f2-44b2-cc78-dd4644addc23"
   },
   "outputs": [],
   "source": [
    "# mencari outliers details\n",
    "for i in df2_numeric:\n",
    "  print(i,'\\n', display(outliers(df['WoodDeckSF'])))"
   ]
  },
  {
   "cell_type": "markdown",
   "metadata": {},
   "source": [
    "# F. Korelasi Antar Variabel\n",
    "    1. Heatmap\n",
    "    2. Matrix Korelasi variabel 'SalePrice'"
   ]
  },
  {
   "cell_type": "code",
   "execution_count": null,
   "metadata": {},
   "outputs": [],
   "source": [
    "# 1. Heatmap\n",
    "korelasi_matrix = df2.corr(method='spearman')\n",
    "f, ax = plt.subplots(figsize=(30,15))\n",
    "sns.heatmap(korelasi_matrix, vmax=.9, mask = np.triu(np.ones_like(korelasi_matrix)), annot=True, annot_kws={'size' : 9}, square=True)"
   ]
  },
  {
   "cell_type": "markdown",
   "metadata": {},
   "source": [
    "# G. Wawasan Bisnis ( Business Insight )"
   ]
  }
 ],
 "metadata": {
  "interpreter": {
   "hash": "ece92af34bc184b31dcd5f417b42952d62b1dbdce3c4bdfd3f1c7c360b598a90"
  },
  "kernelspec": {
   "display_name": "Python 3.10.2 ('mini_ds')",
   "language": "python",
   "name": "python3"
  },
  "language_info": {
   "codemirror_mode": {
    "name": "ipython",
    "version": 3
   },
   "file_extension": ".py",
   "mimetype": "text/x-python",
   "name": "python",
   "nbconvert_exporter": "python",
   "pygments_lexer": "ipython3",
   "version": "3.10.2"
  },
  "orig_nbformat": 4
 },
 "nbformat": 4,
 "nbformat_minor": 2
}
