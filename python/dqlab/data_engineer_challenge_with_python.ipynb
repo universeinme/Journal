{
  "nbformat": 4,
  "nbformat_minor": 0,
  "metadata": {
    "colab": {
      "name": "data_engineer_challenge_with_python.ipynb",
      "provenance": [],
      "collapsed_sections": [],
      "toc_visible": true
    },
    "kernelspec": {
      "name": "python3",
      "display_name": "Python 3"
    },
    "language_info": {
      "name": "python"
    }
  },
  "cells": [
    {
      "cell_type": "markdown",
      "source": [
        "**Data Engineer Challenge with Python**\n",
        "\n",
        "\n",
        "1.   Web Scraping\n",
        "2.   Function and Regular Expression\n",
        "\n"
      ],
      "metadata": {
        "id": "oLbRGcRuzlgd"
      }
    },
    {
      "cell_type": "markdown",
      "source": [
        "**1. Web Scraping**\n",
        "\n",
        "---\n",
        "Sebagai seorang Data Engineer, Anda diminta untuk menggali informasi dari https://id.wikipedia.org/wiki/Demografi_Indonesia menggunakan bahasa pemrograman Python. \n",
        "\n",
        "Buatlah suatu script Python untuk menyimpan tabel \"Jumlah Penduduk menurut Provinsi\" dari web tersebut dengan format CSV.\n",
        "\n",
        "File CSV menggunakan format double-apostrophe quoting ('...') dan disimpan dengan nama 'Indonesia_Demography_by_Province.csv'.\n",
        "\n",
        "Kolom yang perlu Anda ambil adalah sebagai berikut.\n",
        "\n",
        "Nama provinsi \n",
        "\n",
        "*   Luas (km2)\n",
        "*   Populasi (2010)\n",
        "*   Populasi (2020)\n",
        "\n",
        "Dataframe yang akan kamu buat diassign dengan nama variabel df."
      ],
      "metadata": {
        "id": "6lgLorXT0ngK"
      }
    },
    {
      "cell_type": "code",
      "source": [
        "#import library yang dibutuhkan\n",
        "import pandas as pd\n",
        "import requests\n",
        "from bs4 import BeautifulSoup\n",
        "\n"
      ],
      "metadata": {
        "id": "h9ATc00u21AS"
      },
      "execution_count": null,
      "outputs": []
    },
    {
      "cell_type": "code",
      "source": [
        "#request ke website\n",
        "website_url = requests.get('https://id.wikipedia.org/wiki/Demografi_Indonesia').text\n",
        "soup = BeautifulSoup(website_url, 'lxml')"
      ],
      "metadata": {
        "id": "UCORqh8B3NTn"
      },
      "execution_count": null,
      "outputs": []
    },
    {
      "cell_type": "code",
      "source": [
        "#ambil table dengan class 'wikitable sortable'\n",
        "my_table = soup.find('table', {'class':'wikitable sortable'})"
      ],
      "metadata": {
        "id": "o1LFE1tF3TLM"
      },
      "execution_count": null,
      "outputs": []
    },
    {
      "cell_type": "code",
      "source": [
        "#cari data dengan tag 'td'\n",
        "links = my_table.findAll('td')"
      ],
      "metadata": {
        "id": "cHWlfqjM3VaL"
      },
      "execution_count": null,
      "outputs": []
    },
    {
      "cell_type": "code",
      "source": [
        "#buat lists kosong \n",
        "nama = []\n",
        "luas_km = []\n",
        "populasi10 = []\n",
        "populasi20 = []"
      ],
      "metadata": {
        "id": "gsdPiJ8_3Xfk"
      },
      "execution_count": null,
      "outputs": []
    },
    {
      "cell_type": "code",
      "source": [
        "#memasukkan data ke dalam list berdasarkan pola HTML\n",
        "for i, link in enumerate(links):\n",
        "\tif i in range(0, len(links), 4):\n",
        "\t\tnama.append(link.get_text()[:-1])\n",
        "\tif i in range(1, len(links), 4):\n",
        "\t\tluas_km.append(link.get_text()[:-1])\n",
        "\tif i in range(2, len(links), 4):\n",
        "\t\tpopulasi10.append(link.get_text()[:-1])\n",
        "\tif i in range(3, len(links), 4):\n",
        "\t\tpopulasi20.append(link.get_text()[:-1])"
      ],
      "metadata": {
        "id": "ZMjq4WNs3bTU"
      },
      "execution_count": null,
      "outputs": []
    },
    {
      "cell_type": "code",
      "source": [
        "#buat DataFrame dan masukkan ke CSV\n",
        "df = pd.DataFrame()\n",
        "df['Nama Provinsi'] = nama\n",
        "df['Luas km'] = luas_km\n",
        "df['Populasi 2010'] = populasi10\n",
        "df['Populasi 2020'] = populasi20\n",
        "df.to_csv('Indonesia_Demography_by_Province.csv', index=False, encoding='utf-8', quoting=1)"
      ],
      "metadata": {
        "id": "-nam7VUQ3dnV"
      },
      "execution_count": null,
      "outputs": []
    },
    {
      "cell_type": "code",
      "source": [
        "print(df)"
      ],
      "metadata": {
        "id": "CPp_45WU3otb"
      },
      "execution_count": null,
      "outputs": []
    },
    {
      "cell_type": "markdown",
      "source": [
        "**2. Function and Regular Expression**\n",
        "\n",
        "\n",
        "---\n",
        "\n",
        "Sebagai seorang Data Engineer, Anda diminta untuk membuat suatu fungsi yang bernama “email_check” untuk menyaring beberapa email menggunakan regular expression dalam bahasa pemrograman Python. Fungsi ini akan menerima suatu parameter yang bernama “input” yang mana merupakan email dan output-nya akan berupa “Pass” atau “Not Pass”. Fungsinya harus memenuhi pola berikut :\n",
        "\n",
        "|  Pola \t                    |  Pass / Not Pass \t|\n",
        "|:----------------------------|:-----------------:|\n",
        "|my-name@someemail.com        |      *Not Pass*   |\n",
        "|myname@someemail.com         |      *Pass*       |\n",
        "|my.name@someemail.com        |      *Pass*       |\n",
        "|my.name2019@someemail.com    |      *Pass*       |\n",
        "|my.name.2019@someemail.com   |      *Not Pass*   |\n",
        "|somename.201903@someemail.com|      *Not Pass*   |\n",
        "|my_name.201903@someemail.com |      *Pass*       |\n",
        "|201903myname@someemail.com   |      *Not Pass*   |\n",
        "|201903.myname@someemail.com  |      *Not Pass*   |\n"
      ],
      "metadata": {
        "id": "QV9RYUYX4F8D"
      }
    },
    {
      "cell_type": "code",
      "source": [
        "#import library yang dibutuhkan\n",
        "import re\n"
      ],
      "metadata": {
        "id": "VimHi7Hk7rKN"
      },
      "execution_count": null,
      "outputs": []
    },
    {
      "cell_type": "code",
      "source": [
        "#function email_check\n",
        "def email_check(input):\n",
        "  match = re.search('(?=^((?!-).)*$)(?=[^0-9])((?=^((?!\\.\\d).)*$)|(?=.*_))',input)\n",
        "  if match:\n",
        "    print('Pass')\n",
        "  else:\n",
        "    print('Not Pass')\n"
      ],
      "metadata": {
        "id": "xRwrAEbR7zzy"
      },
      "execution_count": null,
      "outputs": []
    },
    {
      "cell_type": "code",
      "source": [
        "#Masukkan data email ke dalam list\n",
        "emails = [\n",
        "          'my-name@someemail.com',\n",
        "          'myname@someemail.com',\n",
        "          'my.name@someemail.com',\n",
        "          'my.name2019@someemail.com',\n",
        "          'my.name2019@someemail.com',\n",
        "          'somename.201903@someemail.com',\n",
        "          'my_name.201903@someemail.com',\n",
        "          '201903myname@someemail.com',\n",
        "          '201903.myname@someemail.com'\n",
        "        ]\n"
      ],
      "metadata": {
        "id": "7OmTIyPX72M6"
      },
      "execution_count": null,
      "outputs": []
    },
    {
      "cell_type": "code",
      "source": [
        "#Looping untuk pengecekan Pass atau Not Pass, gunakan variabel email untuk mengiterasi emails\n",
        "for email in emails:\n",
        "  email_check(email)\n",
        "  "
      ],
      "metadata": {
        "id": "Zvyk1z5r74uz"
      },
      "execution_count": null,
      "outputs": []
    }
  ]
}